{
 "cells": [
  {
   "cell_type": "markdown",
   "metadata": {},
   "source": [
    "# [Clever Title]"
   ]
  },
  {
   "cell_type": "markdown",
   "metadata": {},
   "source": [
    "## [Cool Subtitle]"
   ]
  },
  {
   "cell_type": "markdown",
   "metadata": {},
   "source": [
    "### Project Members: Diana Chou, Max Scribner, Lewis Qualkenbush"
   ]
  },
  {
   "cell_type": "markdown",
   "metadata": {},
   "source": [
    "### Table of Contents:"
   ]
  },
  {
   "cell_type": "markdown",
   "metadata": {},
   "source": [
    "<ol>\n",
    "    <li><a href='introduction</li>\n",
    "    <li>Data Munging</li>\n",
    "    <li>Data Exploration and Analysis</li>\n",
    "    <li>Conclusion</li>\n",
    "</ol>"
   ]
  },
  {
   "cell_type": "markdown",
   "metadata": {},
   "source": [
    "<a id='introduction'></a>\n",
    "## Introduction"
   ]
  },
  {
   "cell_type": "markdown",
   "metadata": {},
   "source": [
    "*Introduction Text*"
   ]
  },
  {
   "cell_type": "markdown",
   "metadata": {},
   "source": [
    "### Data Wrangling"
   ]
  },
  {
   "cell_type": "markdown",
   "metadata": {},
   "source": [
    "#### Reading the Data"
   ]
  },
  {
   "cell_type": "code",
   "execution_count": 1,
   "metadata": {},
   "outputs": [],
   "source": [
    "import numpy as np\n",
    "import pandas as pd\n",
    "import re\n",
    "\n",
    "pd.options.display.max_columns = None"
   ]
  },
  {
   "cell_type": "code",
   "execution_count": 2,
   "metadata": {},
   "outputs": [],
   "source": [
    "# Read the CSV into a new dataframe\n",
    "transcriptions = pd.read_csv(\"transcriptions/british.csv\")\n",
    "\n",
    "# We want to remove characters we do not want to perform analysis on\n",
    "transcriptions = transcriptions.replace(to_replace='\\'|:|ˌ', value = '', regex = True)\n",
    "transcriptions['word'] = transcriptions['word'].str.lower()\n",
    "transcriptions = transcriptions[['word', 'transcription']]"
   ]
  },
  {
   "cell_type": "markdown",
   "metadata": {},
   "source": [
    "#### Find Unique Characters for Analysis"
   ]
  },
  {
   "cell_type": "code",
   "execution_count": 3,
   "metadata": {},
   "outputs": [],
   "source": [
    "from functools import reduce"
   ]
  },
  {
   "cell_type": "code",
   "execution_count": 4,
   "metadata": {},
   "outputs": [],
   "source": [
    "def get_chars(string):\n",
    "    chars = set()\n",
    "    \n",
    "    for char in string:\n",
    "        chars.add(char.lower())\n",
    "        \n",
    "    return chars\n",
    "\n",
    "orth_chars = set()\n",
    "phon_chars = set()\n",
    "\n",
    "# Get unique characters for both letters and phonemes from the dataset\n",
    "for index, row in transcriptions.iterrows():\n",
    "    orth_chars = orth_chars.union(get_chars(row[\"word\"]))\n",
    "    \n",
    "    phon_chars = phon_chars.union(get_chars(row[\"transcription\"]))"
   ]
  },
  {
   "cell_type": "code",
   "execution_count": 5,
   "metadata": {},
   "outputs": [
    {
     "name": "stdout",
     "output_type": "stream",
     "text": [
      "{'c', 'y', 'n', 'v', 'w', 'h', 'x', 'g', 'f', 'b', 'e', 't', 'k', 'q', 'i', 'd', 'u', 'o', 'z', 'm', 'l', 'p', 'j', 'r', 's', 'a'}\n",
      "{'n', 'v', 'ɪ', 'b', 'ŋ', 'i', 'ɜ', 'u', 'æ', 'θ', 'z', 'm', 'l', 'p', 'ɒ', 'ʊ', 's', 'a', 'w', 'h', 'g', 'f', 'e', 't', 'k', 'd', 'ɔ', 'ð', 'ɑ', 'ʃ', 'ʌ', 'ə', 'ʒ', 'j', 'r'}\n"
     ]
    }
   ],
   "source": [
    "print(orth_chars)\n",
    "print(phon_chars)"
   ]
  },
  {
   "cell_type": "markdown",
   "metadata": {},
   "source": [
    "#### Finding the Distributions of Letters and Phonemes Within the Data"
   ]
  },
  {
   "cell_type": "code",
   "execution_count": 6,
   "metadata": {},
   "outputs": [],
   "source": [
    "orth_list = list(orth_chars)\n",
    "phon_list = list(phon_chars)\n",
    "orth_list.sort()\n",
    "phon_list.sort()\n",
    "\n",
    "orth_prob = {k: 0 for k in orth_list}\n",
    "phon_prob = {k: 0 for k in phon_list}"
   ]
  },
  {
   "cell_type": "code",
   "execution_count": 7,
   "metadata": {},
   "outputs": [],
   "source": [
    "# Count the number of times a letter or phoneme appears within the dataset\n",
    "for index, row in transcriptions.iterrows():\n",
    "    for orth in list(row['word']):\n",
    "        orth_prob[orth] += 1\n",
    "    \n",
    "    for phon in list(row['transcription']):\n",
    "        phon_prob[phon] += 1"
   ]
  },
  {
   "cell_type": "code",
   "execution_count": 8,
   "metadata": {},
   "outputs": [],
   "source": [
    "# Normalize the distribution values of letters and phonemes\n",
    "orth_prob_max = max(orth_prob.values())\n",
    "phon_prob_max = max(phon_prob.values())\n",
    "\n",
    "orth_prob = {k: (v/orth_prob_max) for k, v in orth_prob.items()}\n",
    "phon_prob = {k: (v/phon_prob_max) for k, v in phon_prob.items()}"
   ]
  },
  {
   "cell_type": "markdown",
   "metadata": {},
   "source": [
    "### Data Exploration"
   ]
  },
  {
   "cell_type": "markdown",
   "metadata": {},
   "source": [
    "#### Intra-Word Co-Occurence Map"
   ]
  },
  {
   "cell_type": "markdown",
   "metadata": {},
   "source": [
    "We are going to start our exploration by finding how often each phoneme co-occurs within a word with a given letter."
   ]
  },
  {
   "cell_type": "code",
   "execution_count": 9,
   "metadata": {},
   "outputs": [],
   "source": [
    "import seaborn as sns\n",
    "import matplotlib.pyplot as plt"
   ]
  },
  {
   "cell_type": "code",
   "execution_count": 10,
   "metadata": {},
   "outputs": [],
   "source": [
    "hm_orth_dict = {k: v for v, k in enumerate(orth_list)}\n",
    "hm_phon_dict = {k: v for v, k in enumerate(phon_list)}\n",
    "\n",
    "# Create a new dataframe to hold the values for the heatmap\n",
    "heatmap_frame = pd.DataFrame(index=[i for i in range(0, len(hm_phon_dict))], \n",
    "                             columns=[i for i in range(0, len(hm_orth_dict))], \n",
    "                             data=0)"
   ]
  },
  {
   "cell_type": "code",
   "execution_count": 11,
   "metadata": {},
   "outputs": [],
   "source": [
    "# Loop through each word, transcription pair in the dataset\n",
    "for index, row in transcriptions.iterrows():\n",
    "    word_length = len(row['word'])\n",
    "    transcription_length = len(row['transcription'])\n",
    "    \n",
    "    # Calculate the weight we want to add to that pairing given the current lengths\n",
    "    # of the word and transcription\n",
    "    weight = word_length * transcription_length\n",
    "    weighted_val = float(1/weight)\n",
    "    \n",
    "    for orth in list(row['word']):\n",
    "        for phon in list(row['transcription']):\n",
    "            # Calculate the weighting based on the distribution of a given letter\n",
    "            # and phoneme\n",
    "            dist_weight = float(1/(orth_prob[orth] * phon_prob[phon]))\n",
    "            \n",
    "            # Add this weighted value to the heatmap for the given pair\n",
    "            heatmap_frame.loc[[hm_phon_dict[phon]],[hm_orth_dict[orth]]] += (weighted_val * dist_weight)"
   ]
  },
  {
   "cell_type": "code",
   "execution_count": 12,
   "metadata": {},
   "outputs": [
    {
     "data": {
      "text/html": [
       "<div>\n",
       "<style scoped>\n",
       "    .dataframe tbody tr th:only-of-type {\n",
       "        vertical-align: middle;\n",
       "    }\n",
       "\n",
       "    .dataframe tbody tr th {\n",
       "        vertical-align: top;\n",
       "    }\n",
       "\n",
       "    .dataframe thead th {\n",
       "        text-align: right;\n",
       "    }\n",
       "</style>\n",
       "<table border=\"1\" class=\"dataframe\">\n",
       "  <thead>\n",
       "    <tr style=\"text-align: right;\">\n",
       "      <th></th>\n",
       "      <th>a</th>\n",
       "      <th>b</th>\n",
       "      <th>c</th>\n",
       "      <th>d</th>\n",
       "      <th>e</th>\n",
       "      <th>f</th>\n",
       "      <th>g</th>\n",
       "      <th>h</th>\n",
       "      <th>i</th>\n",
       "      <th>j</th>\n",
       "      <th>k</th>\n",
       "      <th>l</th>\n",
       "      <th>m</th>\n",
       "      <th>n</th>\n",
       "      <th>o</th>\n",
       "      <th>p</th>\n",
       "      <th>q</th>\n",
       "      <th>r</th>\n",
       "      <th>s</th>\n",
       "      <th>t</th>\n",
       "      <th>u</th>\n",
       "      <th>v</th>\n",
       "      <th>w</th>\n",
       "      <th>x</th>\n",
       "      <th>y</th>\n",
       "      <th>z</th>\n",
       "    </tr>\n",
       "  </thead>\n",
       "  <tbody>\n",
       "    <tr>\n",
       "      <th>a</th>\n",
       "      <td>0.003969</td>\n",
       "      <td>0.029146</td>\n",
       "      <td>0.020202</td>\n",
       "      <td>0.041956</td>\n",
       "      <td>0.028675</td>\n",
       "      <td>0.030850</td>\n",
       "      <td>0.025134</td>\n",
       "      <td>0.039240</td>\n",
       "      <td>0.077253</td>\n",
       "      <td>0.000000</td>\n",
       "      <td>0.019858</td>\n",
       "      <td>0.018102</td>\n",
       "      <td>0.019085</td>\n",
       "      <td>0.026525</td>\n",
       "      <td>0.023975</td>\n",
       "      <td>0.010152</td>\n",
       "      <td>0.055852</td>\n",
       "      <td>0.023199</td>\n",
       "      <td>0.016880</td>\n",
       "      <td>0.024855</td>\n",
       "      <td>0.038554</td>\n",
       "      <td>0.021370</td>\n",
       "      <td>0.069365</td>\n",
       "      <td>0.009917</td>\n",
       "      <td>0.071428</td>\n",
       "      <td>0.091077</td>\n",
       "    </tr>\n",
       "    <tr>\n",
       "      <th>b</th>\n",
       "      <td>0.026105</td>\n",
       "      <td>0.314658</td>\n",
       "      <td>0.010760</td>\n",
       "      <td>0.029997</td>\n",
       "      <td>0.023149</td>\n",
       "      <td>0.005475</td>\n",
       "      <td>0.028019</td>\n",
       "      <td>0.015855</td>\n",
       "      <td>0.018936</td>\n",
       "      <td>0.070961</td>\n",
       "      <td>0.036696</td>\n",
       "      <td>0.027139</td>\n",
       "      <td>0.010571</td>\n",
       "      <td>0.012811</td>\n",
       "      <td>0.035623</td>\n",
       "      <td>0.004396</td>\n",
       "      <td>0.000000</td>\n",
       "      <td>0.028128</td>\n",
       "      <td>0.013098</td>\n",
       "      <td>0.020640</td>\n",
       "      <td>0.039363</td>\n",
       "      <td>0.016647</td>\n",
       "      <td>0.017364</td>\n",
       "      <td>0.027293</td>\n",
       "      <td>0.047514</td>\n",
       "      <td>0.000000</td>\n",
       "    </tr>\n",
       "    <tr>\n",
       "      <th>d</th>\n",
       "      <td>0.029121</td>\n",
       "      <td>0.030818</td>\n",
       "      <td>0.014793</td>\n",
       "      <td>0.173704</td>\n",
       "      <td>0.025441</td>\n",
       "      <td>0.013599</td>\n",
       "      <td>0.034090</td>\n",
       "      <td>0.016395</td>\n",
       "      <td>0.024379</td>\n",
       "      <td>0.140541</td>\n",
       "      <td>0.016026</td>\n",
       "      <td>0.019247</td>\n",
       "      <td>0.010513</td>\n",
       "      <td>0.026312</td>\n",
       "      <td>0.030128</td>\n",
       "      <td>0.011865</td>\n",
       "      <td>0.000000</td>\n",
       "      <td>0.028298</td>\n",
       "      <td>0.019259</td>\n",
       "      <td>0.007900</td>\n",
       "      <td>0.026748</td>\n",
       "      <td>0.009664</td>\n",
       "      <td>0.025009</td>\n",
       "      <td>0.003288</td>\n",
       "      <td>0.028218</td>\n",
       "      <td>0.000000</td>\n",
       "    </tr>\n",
       "    <tr>\n",
       "      <th>e</th>\n",
       "      <td>0.048074</td>\n",
       "      <td>0.024077</td>\n",
       "      <td>0.017674</td>\n",
       "      <td>0.029986</td>\n",
       "      <td>0.042354</td>\n",
       "      <td>0.016052</td>\n",
       "      <td>0.038056</td>\n",
       "      <td>0.024838</td>\n",
       "      <td>0.016273</td>\n",
       "      <td>0.011645</td>\n",
       "      <td>0.020648</td>\n",
       "      <td>0.030258</td>\n",
       "      <td>0.022414</td>\n",
       "      <td>0.026550</td>\n",
       "      <td>0.006800</td>\n",
       "      <td>0.029088</td>\n",
       "      <td>0.018325</td>\n",
       "      <td>0.024122</td>\n",
       "      <td>0.029427</td>\n",
       "      <td>0.028371</td>\n",
       "      <td>0.005576</td>\n",
       "      <td>0.036216</td>\n",
       "      <td>0.026950</td>\n",
       "      <td>0.034691</td>\n",
       "      <td>0.056871</td>\n",
       "      <td>0.021834</td>\n",
       "    </tr>\n",
       "    <tr>\n",
       "      <th>f</th>\n",
       "      <td>0.028531</td>\n",
       "      <td>0.005474</td>\n",
       "      <td>0.013013</td>\n",
       "      <td>0.014059</td>\n",
       "      <td>0.026828</td>\n",
       "      <td>0.339069</td>\n",
       "      <td>0.027892</td>\n",
       "      <td>0.017514</td>\n",
       "      <td>0.033590</td>\n",
       "      <td>0.000000</td>\n",
       "      <td>0.013025</td>\n",
       "      <td>0.043404</td>\n",
       "      <td>0.019208</td>\n",
       "      <td>0.014356</td>\n",
       "      <td>0.037587</td>\n",
       "      <td>0.003560</td>\n",
       "      <td>0.000000</td>\n",
       "      <td>0.034527</td>\n",
       "      <td>0.011665</td>\n",
       "      <td>0.023769</td>\n",
       "      <td>0.034573</td>\n",
       "      <td>0.016151</td>\n",
       "      <td>0.013577</td>\n",
       "      <td>0.054065</td>\n",
       "      <td>0.010556</td>\n",
       "      <td>0.040549</td>\n",
       "    </tr>\n",
       "  </tbody>\n",
       "</table>\n",
       "</div>"
      ],
      "text/plain": [
       "          a         b         c         d         e         f         g  \\\n",
       "a  0.003969  0.029146  0.020202  0.041956  0.028675  0.030850  0.025134   \n",
       "b  0.026105  0.314658  0.010760  0.029997  0.023149  0.005475  0.028019   \n",
       "d  0.029121  0.030818  0.014793  0.173704  0.025441  0.013599  0.034090   \n",
       "e  0.048074  0.024077  0.017674  0.029986  0.042354  0.016052  0.038056   \n",
       "f  0.028531  0.005474  0.013013  0.014059  0.026828  0.339069  0.027892   \n",
       "\n",
       "          h         i         j         k         l         m         n  \\\n",
       "a  0.039240  0.077253  0.000000  0.019858  0.018102  0.019085  0.026525   \n",
       "b  0.015855  0.018936  0.070961  0.036696  0.027139  0.010571  0.012811   \n",
       "d  0.016395  0.024379  0.140541  0.016026  0.019247  0.010513  0.026312   \n",
       "e  0.024838  0.016273  0.011645  0.020648  0.030258  0.022414  0.026550   \n",
       "f  0.017514  0.033590  0.000000  0.013025  0.043404  0.019208  0.014356   \n",
       "\n",
       "          o         p         q         r         s         t         u  \\\n",
       "a  0.023975  0.010152  0.055852  0.023199  0.016880  0.024855  0.038554   \n",
       "b  0.035623  0.004396  0.000000  0.028128  0.013098  0.020640  0.039363   \n",
       "d  0.030128  0.011865  0.000000  0.028298  0.019259  0.007900  0.026748   \n",
       "e  0.006800  0.029088  0.018325  0.024122  0.029427  0.028371  0.005576   \n",
       "f  0.037587  0.003560  0.000000  0.034527  0.011665  0.023769  0.034573   \n",
       "\n",
       "          v         w         x         y         z  \n",
       "a  0.021370  0.069365  0.009917  0.071428  0.091077  \n",
       "b  0.016647  0.017364  0.027293  0.047514  0.000000  \n",
       "d  0.009664  0.025009  0.003288  0.028218  0.000000  \n",
       "e  0.036216  0.026950  0.034691  0.056871  0.021834  \n",
       "f  0.016151  0.013577  0.054065  0.010556  0.040549  "
      ]
     },
     "execution_count": 12,
     "metadata": {},
     "output_type": "execute_result"
    }
   ],
   "source": [
    "heatmap_frame.index = phon_list\n",
    "heatmap_frame.columns = orth_list\n",
    "\n",
    "# Normalize the values in the dataframe so they are on a scale from zero to one\n",
    "max_val = max(heatmap_frame.max())\n",
    "heatmap_frame = heatmap_frame.div(max_val)\n",
    "\n",
    "heatmap_frame.head()"
   ]
  },
  {
   "cell_type": "code",
   "execution_count": 13,
   "metadata": {},
   "outputs": [
    {
     "data": {
      "image/png": "[encoded data removed]",
      "text/plain": [
       "<matplotlib.figure.Figure at 0x212e72fa048>"
      ]
     },
     "metadata": {},
     "output_type": "display_data"
    }
   ],
   "source": [
    "# Plot the dataframe showing the co-occurence values of each phoneme, letter pair\n",
    "plt.subplots(figsize=(20,15))\n",
    "ax = sns.heatmap(heatmap_frame, cmap=\"Greens\")\n",
    "plt.yticks(rotation=0, va=\"center\", ha=\"center\")\n",
    "ax.set_title('Intra-Word Co-Occurence of Phoneme and Letter'), ax.set_ylabel('Phoneme'), ax.set_xlabel('Letter')\n",
    "plt.show()"
   ]
  },
  {
   "cell_type": "code",
   "execution_count": 14,
   "metadata": {},
   "outputs": [
    {
     "data": {
      "text/html": [
       "<div>\n",
       "<style scoped>\n",
       "    .dataframe tbody tr th:only-of-type {\n",
       "        vertical-align: middle;\n",
       "    }\n",
       "\n",
       "    .dataframe tbody tr th {\n",
       "        vertical-align: top;\n",
       "    }\n",
       "\n",
       "    .dataframe thead th {\n",
       "        text-align: right;\n",
       "    }\n",
       "</style>\n",
       "<table border=\"1\" class=\"dataframe\">\n",
       "  <thead>\n",
       "    <tr style=\"text-align: right;\">\n",
       "      <th></th>\n",
       "      <th>a</th>\n",
       "      <th>b</th>\n",
       "      <th>d</th>\n",
       "      <th>e</th>\n",
       "      <th>f</th>\n",
       "      <th>g</th>\n",
       "      <th>h</th>\n",
       "      <th>i</th>\n",
       "      <th>j</th>\n",
       "      <th>k</th>\n",
       "      <th>l</th>\n",
       "      <th>m</th>\n",
       "      <th>n</th>\n",
       "      <th>p</th>\n",
       "      <th>r</th>\n",
       "      <th>s</th>\n",
       "      <th>t</th>\n",
       "      <th>u</th>\n",
       "      <th>v</th>\n",
       "      <th>w</th>\n",
       "      <th>z</th>\n",
       "      <th>æ</th>\n",
       "      <th>ð</th>\n",
       "      <th>ŋ</th>\n",
       "      <th>ɑ</th>\n",
       "      <th>ɒ</th>\n",
       "      <th>ɔ</th>\n",
       "      <th>ə</th>\n",
       "      <th>ɜ</th>\n",
       "      <th>ɪ</th>\n",
       "      <th>ʃ</th>\n",
       "      <th>ʊ</th>\n",
       "      <th>ʌ</th>\n",
       "      <th>ʒ</th>\n",
       "      <th>θ</th>\n",
       "    </tr>\n",
       "  </thead>\n",
       "  <tbody>\n",
       "    <tr>\n",
       "      <th>0</th>\n",
       "      <td>z</td>\n",
       "      <td>b</td>\n",
       "      <td>d</td>\n",
       "      <td>y</td>\n",
       "      <td>f</td>\n",
       "      <td>g</td>\n",
       "      <td>h</td>\n",
       "      <td>q</td>\n",
       "      <td>y</td>\n",
       "      <td>k</td>\n",
       "      <td>l</td>\n",
       "      <td>m</td>\n",
       "      <td>n</td>\n",
       "      <td>p</td>\n",
       "      <td>z</td>\n",
       "      <td>x</td>\n",
       "      <td>t</td>\n",
       "      <td>z</td>\n",
       "      <td>v</td>\n",
       "      <td>w</td>\n",
       "      <td>z</td>\n",
       "      <td>a</td>\n",
       "      <td>h</td>\n",
       "      <td>g</td>\n",
       "      <td>a</td>\n",
       "      <td>f</td>\n",
       "      <td>o</td>\n",
       "      <td>o</td>\n",
       "      <td>r</td>\n",
       "      <td>y</td>\n",
       "      <td>h</td>\n",
       "      <td>o</td>\n",
       "      <td>u</td>\n",
       "      <td>j</td>\n",
       "      <td>h</td>\n",
       "    </tr>\n",
       "  </tbody>\n",
       "</table>\n",
       "</div>"
      ],
      "text/plain": [
       "   a  b  d  e  f  g  h  i  j  k  l  m  n  p  r  s  t  u  v  w  z  æ  ð  ŋ  ɑ  \\\n",
       "0  z  b  d  y  f  g  h  q  y  k  l  m  n  p  z  x  t  z  v  w  z  a  h  g  a   \n",
       "\n",
       "   ɒ  ɔ  ə  ɜ  ɪ  ʃ  ʊ  ʌ  ʒ  θ  \n",
       "0  f  o  o  r  y  h  o  u  j  h  "
      ]
     },
     "execution_count": 14,
     "metadata": {},
     "output_type": "execute_result"
    }
   ],
   "source": [
    "# Find the letter of greatest co-occurence for each phoneme\n",
    "phon_comax = heatmap_frame.idxmax(axis=1).to_frame()\n",
    "phon_comax.transpose()"
   ]
  },
  {
   "cell_type": "code",
   "execution_count": 15,
   "metadata": {},
   "outputs": [
    {
     "data": {
      "text/html": [
       "<div>\n",
       "<style scoped>\n",
       "    .dataframe tbody tr th:only-of-type {\n",
       "        vertical-align: middle;\n",
       "    }\n",
       "\n",
       "    .dataframe tbody tr th {\n",
       "        vertical-align: top;\n",
       "    }\n",
       "\n",
       "    .dataframe thead th {\n",
       "        text-align: right;\n",
       "    }\n",
       "</style>\n",
       "<table border=\"1\" class=\"dataframe\">\n",
       "  <thead>\n",
       "    <tr style=\"text-align: right;\">\n",
       "      <th></th>\n",
       "      <th>a</th>\n",
       "      <th>b</th>\n",
       "      <th>c</th>\n",
       "      <th>d</th>\n",
       "      <th>e</th>\n",
       "      <th>f</th>\n",
       "      <th>g</th>\n",
       "      <th>h</th>\n",
       "      <th>i</th>\n",
       "      <th>j</th>\n",
       "      <th>k</th>\n",
       "      <th>l</th>\n",
       "      <th>m</th>\n",
       "      <th>n</th>\n",
       "      <th>o</th>\n",
       "      <th>p</th>\n",
       "      <th>q</th>\n",
       "      <th>r</th>\n",
       "      <th>s</th>\n",
       "      <th>t</th>\n",
       "      <th>u</th>\n",
       "      <th>v</th>\n",
       "      <th>w</th>\n",
       "      <th>x</th>\n",
       "      <th>y</th>\n",
       "      <th>z</th>\n",
       "    </tr>\n",
       "  </thead>\n",
       "  <tbody>\n",
       "    <tr>\n",
       "      <th>0</th>\n",
       "      <td>æ</td>\n",
       "      <td>b</td>\n",
       "      <td>k</td>\n",
       "      <td>d</td>\n",
       "      <td>i</td>\n",
       "      <td>f</td>\n",
       "      <td>g</td>\n",
       "      <td>h</td>\n",
       "      <td>a</td>\n",
       "      <td>ʒ</td>\n",
       "      <td>k</td>\n",
       "      <td>l</td>\n",
       "      <td>m</td>\n",
       "      <td>n</td>\n",
       "      <td>u</td>\n",
       "      <td>p</td>\n",
       "      <td>w</td>\n",
       "      <td>ɜ</td>\n",
       "      <td>z</td>\n",
       "      <td>θ</td>\n",
       "      <td>j</td>\n",
       "      <td>v</td>\n",
       "      <td>w</td>\n",
       "      <td>k</td>\n",
       "      <td>j</td>\n",
       "      <td>z</td>\n",
       "    </tr>\n",
       "  </tbody>\n",
       "</table>\n",
       "</div>"
      ],
      "text/plain": [
       "   a  b  c  d  e  f  g  h  i  j  k  l  m  n  o  p  q  r  s  t  u  v  w  x  y  \\\n",
       "0  æ  b  k  d  i  f  g  h  a  ʒ  k  l  m  n  u  p  w  ɜ  z  θ  j  v  w  k  j   \n",
       "\n",
       "   z  \n",
       "0  z  "
      ]
     },
     "execution_count": 15,
     "metadata": {},
     "output_type": "execute_result"
    }
   ],
   "source": [
    "# Find the phoneme of greatest co-occurence for each letter\n",
    "orth_comax = heatmap_frame.idxmax(axis=0).to_frame()\n",
    "orth_comax.transpose()"
   ]
  },
  {
   "cell_type": "markdown",
   "metadata": {},
   "source": [
    "#### Finding Clusters Within Words"
   ]
  },
  {
   "cell_type": "code",
   "execution_count": 16,
   "metadata": {},
   "outputs": [],
   "source": [
    "import math"
   ]
  },
  {
   "cell_type": "code",
   "execution_count": 17,
   "metadata": {},
   "outputs": [],
   "source": [
    "# Manual listing of consonants and vowels for orthrographical British English\n",
    "orth_consonants = ['l', 't', 'f', 'm', 'n', 'v', 'p', 'h', 'j', 'w', 'r', 'b', 'x', 'c', 'q', 'z',  'g', 's', 'k', 'd', 'y']\n",
    "orth_consonants.sort()\n",
    "orth_vowels = ['i', 'a', 'o', 'e', 'u', 'y']\n",
    "orth_vowels.sort()\n",
    "\n",
    "# Manual listing of consonants and vowels for phonological British English\n",
    "phon_consonants = ['t', 'f', 'd', 'p', 'h', 'ʃ', 'r', 'b', 'θ', 'ŋ', 'g', 'k', 'ʒ', 'l', 'm', 'n', 'v', 'j', 'w', 'ð', 's', 'z']\n",
    "phon_consonants.sort()\n",
    "phon_vowels = ['ɑ', 'a', 'ɜ', 'ʊ', 'æ', 'e', 'ə', 'u', 'i', 'ɪ', 'ʌ', 'ɔ', 'ɒ']\n",
    "phon_vowels.sort()"
   ]
  },
  {
   "cell_type": "code",
   "execution_count": 18,
   "metadata": {},
   "outputs": [],
   "source": [
    "# Returns the word as a list of strings representing its clusters\n",
    "# word - word to turn into a list of cluster(letters)-sound(consonant or vowel) pairs\n",
    "# is_orth - true if word is orthological, false is word is phonemic\n",
    "def get_cluster(word, is_orth):\n",
    "    cluster = []\n",
    "    if (is_orth):\n",
    "        consonants = orth_consonants\n",
    "        vowels = orth_vowels\n",
    "    else:\n",
    "        consonants = phon_consonants\n",
    "        vowels = phon_vowels\n",
    "        \n",
    "    for i in range(len(word)):\n",
    "        if (is_orth == True) & (word[i] == 'y'):\n",
    "            # 'y' is a semivowel (can be either vowel or consonant)\n",
    "            if i == 0:\n",
    "                if word[i+1] in consonants:\n",
    "                    cluster.append(([word[i]],'v'))\n",
    "                else:\n",
    "                    cluster.append(([word[i]],'c'))\n",
    "            else:\n",
    "                cluster.append(([word[i]],'v'))\n",
    "        elif word[i] in consonants:\n",
    "            cluster.append(([word[i]],'c'))\n",
    "            \n",
    "        else:\n",
    "            cluster.append(([word[i]],'v'))\n",
    "    \n",
    "    i=0\n",
    "    while i < len(cluster)-1:\n",
    "        if cluster[i][1] == cluster[i+1][1]:\n",
    "            cluster[i] = ((cluster[i][0] + cluster[i+1][0]), cluster[i][1])\n",
    "            cluster.pop(i+1)\n",
    "        else:\n",
    "            i += 1\n",
    "    \n",
    "    return cluster"
   ]
  },
  {
   "cell_type": "code",
   "execution_count": 19,
   "metadata": {},
   "outputs": [
    {
     "name": "stdout",
     "output_type": "stream",
     "text": [
      "\n",
      "stood\n",
      "[(['s', 't'], 'c'), (['o', 'o'], 'v'), (['d'], 'c')]\n",
      "[(['s', 't'], 'c'), (['ʊ'], 'v'), (['d'], 'c')]\n",
      "\n",
      "breakfast\n",
      "[(['b', 'r'], 'c'), (['e', 'a'], 'v'), (['k', 'f'], 'c'), (['a'], 'v'), (['s', 't'], 'c')]\n",
      "[(['b', 'r'], 'c'), (['e'], 'v'), (['k', 'f'], 'c'), (['ə'], 'v'), (['s', 't'], 'c')]\n",
      "\n",
      "computer\n",
      "[(['c'], 'c'), (['o'], 'v'), (['m', 'p'], 'c'), (['u'], 'v'), (['t'], 'c'), (['e'], 'v'), (['r'], 'c')]\n",
      "[(['k'], 'c'), (['ə'], 'v'), (['m', 'p', 'j'], 'c'), (['u'], 'v'), (['t'], 'c'), (['ə'], 'v')]\n",
      "\n",
      "listen\n",
      "[(['l'], 'c'), (['i'], 'v'), (['s', 't'], 'c'), (['e'], 'v'), (['n'], 'c')]\n",
      "[(['l'], 'c'), (['ɪ'], 'v'), (['s'], 'c'), (['ə'], 'v'), (['n'], 'c')]\n",
      "\n",
      "rubber\n",
      "[(['r'], 'c'), (['u'], 'v'), (['b', 'b'], 'c'), (['e'], 'v'), (['r'], 'c')]\n",
      "[(['r'], 'c'), (['ʌ'], 'v'), (['b'], 'c'), (['ə'], 'v')]\n",
      "\n",
      "without\n",
      "[(['w'], 'c'), (['i'], 'v'), (['t', 'h'], 'c'), (['o', 'u'], 'v'), (['t'], 'c')]\n",
      "[(['w'], 'c'), (['ɪ'], 'v'), (['ð'], 'c'), (['a', 'ʊ'], 'v'), (['t'], 'c')]\n",
      "\n",
      "enjoy\n",
      "[(['e'], 'v'), (['n', 'j'], 'c'), (['o', 'y'], 'v')]\n",
      "[(['ɪ'], 'v'), (['n', 'd', 'ʒ'], 'c'), (['ɔ', 'ɪ'], 'v')]\n"
     ]
    }
   ],
   "source": [
    "# Testing get_cluster() on various words\n",
    "o_words = ['stood', 'breakfast', 'computer', 'listen', 'rubber', 'without', 'enjoy']\n",
    "p_words = ['stʊd', 'brekfəst', 'kəmpjutə', 'lɪsən', 'rʌbə', 'wɪðaʊt', 'ɪndʒɔɪ']\n",
    "\n",
    "for i in range(len(o_words)):\n",
    "    print('\\n' + o_words[i])\n",
    "    print(get_cluster(o_words[i], True))\n",
    "    print(get_cluster(p_words[i], False))"
   ]
  },
  {
   "cell_type": "markdown",
   "metadata": {},
   "source": [
    "#### Preparing Data with Clustering"
   ]
  },
  {
   "cell_type": "code",
   "execution_count": 20,
   "metadata": {},
   "outputs": [],
   "source": [
    "clustered_transcriptions = transcriptions.copy()\n",
    "\n",
    "# Apply clustering function to words and transcriptions in dataframe\n",
    "clustered_transcriptions.word = clustered_transcriptions.word.apply(get_cluster, args=(True,))\n",
    "clustered_transcriptions.transcription = clustered_transcriptions.transcription.apply(get_cluster, args=(False,))"
   ]
  },
  {
   "cell_type": "code",
   "execution_count": 21,
   "metadata": {},
   "outputs": [],
   "source": [
    "# Function to check compatibility of clustered words and their corresponding transcription\n",
    "def cluster_compatible(word, transcription):\n",
    "    # Are there the same number of clusters?\n",
    "    if len(word) != len(transcription):\n",
    "        return False\n",
    "    \n",
    "    # For each pair of clusters, do they have the same vowel or consonant typing?\n",
    "    for index, tup in enumerate(word):\n",
    "        if tup[1] != transcription[index][1]:\n",
    "            return False\n",
    "    \n",
    "    # Return true if both of these questions are true\n",
    "    return True"
   ]
  },
  {
   "cell_type": "code",
   "execution_count": 22,
   "metadata": {},
   "outputs": [
    {
     "data": {
      "text/html": [
       "<div>\n",
       "<style scoped>\n",
       "    .dataframe tbody tr th:only-of-type {\n",
       "        vertical-align: middle;\n",
       "    }\n",
       "\n",
       "    .dataframe tbody tr th {\n",
       "        vertical-align: top;\n",
       "    }\n",
       "\n",
       "    .dataframe thead th {\n",
       "        text-align: right;\n",
       "    }\n",
       "</style>\n",
       "<table border=\"1\" class=\"dataframe\">\n",
       "  <thead>\n",
       "    <tr style=\"text-align: right;\">\n",
       "      <th></th>\n",
       "      <th>word</th>\n",
       "      <th>transcription</th>\n",
       "      <th>compatible</th>\n",
       "    </tr>\n",
       "  </thead>\n",
       "  <tbody>\n",
       "    <tr>\n",
       "      <th>0</th>\n",
       "      <td>[([a], v)]</td>\n",
       "      <td>[([e, ɪ], v)]</td>\n",
       "      <td>True</td>\n",
       "    </tr>\n",
       "    <tr>\n",
       "      <th>1</th>\n",
       "      <td>[([a], v), ([b], c), ([o, u], v), ([t], c)]</td>\n",
       "      <td>[([ə], v), ([b], c), ([a, ʊ], v), ([t], c)]</td>\n",
       "      <td>True</td>\n",
       "    </tr>\n",
       "    <tr>\n",
       "      <th>2</th>\n",
       "      <td>[([a], v), ([b], c), ([o], v), ([v], c), ([e],...</td>\n",
       "      <td>[([ə], v), ([b], c), ([ʌ], v), ([v], c)]</td>\n",
       "      <td>False</td>\n",
       "    </tr>\n",
       "    <tr>\n",
       "      <th>3</th>\n",
       "      <td>[([a], v), ([c, r], c), ([o], v), ([s, s], c)]</td>\n",
       "      <td>[([ə], v), ([k, r], c), ([ɒ], v), ([s], c)]</td>\n",
       "      <td>True</td>\n",
       "    </tr>\n",
       "    <tr>\n",
       "      <th>4</th>\n",
       "      <td>[([a], v), ([c, t], c)]</td>\n",
       "      <td>[([æ], v), ([k, t], c)]</td>\n",
       "      <td>True</td>\n",
       "    </tr>\n",
       "  </tbody>\n",
       "</table>\n",
       "</div>"
      ],
      "text/plain": [
       "                                                word  \\\n",
       "0                                         [([a], v)]   \n",
       "1        [([a], v), ([b], c), ([o, u], v), ([t], c)]   \n",
       "2  [([a], v), ([b], c), ([o], v), ([v], c), ([e],...   \n",
       "3     [([a], v), ([c, r], c), ([o], v), ([s, s], c)]   \n",
       "4                            [([a], v), ([c, t], c)]   \n",
       "\n",
       "                                 transcription  compatible  \n",
       "0                                [([e, ɪ], v)]        True  \n",
       "1  [([ə], v), ([b], c), ([a, ʊ], v), ([t], c)]        True  \n",
       "2     [([ə], v), ([b], c), ([ʌ], v), ([v], c)]       False  \n",
       "3  [([ə], v), ([k, r], c), ([ɒ], v), ([s], c)]        True  \n",
       "4                      [([æ], v), ([k, t], c)]        True  "
      ]
     },
     "execution_count": 22,
     "metadata": {},
     "output_type": "execute_result"
    }
   ],
   "source": [
    "# Add a new column with the returned value of the cluster_compatible function\n",
    "clustered_transcriptions['compatible'] = clustered_transcriptions.apply(\n",
    "    lambda x: cluster_compatible(x.word, x.transcription), axis=1)\\\n",
    "\n",
    "# Print dataframe to file\n",
    "clustered_transcriptions.to_csv(\"british_clusters.tsv\", sep='\\t')\n",
    "\n",
    "clustered_transcriptions.head()"
   ]
  },
  {
   "cell_type": "code",
   "execution_count": 23,
   "metadata": {},
   "outputs": [],
   "source": [
    "# Pull out compatible tuples for heatmap analysis and incompatible tuples for later analysis\n",
    "compatible_clust = clustered_transcriptions[clustered_transcriptions['compatible'] == True]\n",
    "incompatible_clust = clustered_transcriptions[clustered_transcriptions['compatible'] == False]"
   ]
  },
  {
   "cell_type": "code",
   "execution_count": 24,
   "metadata": {},
   "outputs": [
    {
     "data": {
      "text/html": [
       "<div>\n",
       "<style scoped>\n",
       "    .dataframe tbody tr th:only-of-type {\n",
       "        vertical-align: middle;\n",
       "    }\n",
       "\n",
       "    .dataframe tbody tr th {\n",
       "        vertical-align: top;\n",
       "    }\n",
       "\n",
       "    .dataframe thead th {\n",
       "        text-align: right;\n",
       "    }\n",
       "</style>\n",
       "<table border=\"1\" class=\"dataframe\">\n",
       "  <thead>\n",
       "    <tr style=\"text-align: right;\">\n",
       "      <th></th>\n",
       "      <th>transcription</th>\n",
       "      <th>word</th>\n",
       "      <th>type</th>\n",
       "    </tr>\n",
       "  </thead>\n",
       "  <tbody>\n",
       "    <tr>\n",
       "      <th>0</th>\n",
       "      <td>[e, ɪ]</td>\n",
       "      <td>[a]</td>\n",
       "      <td>v</td>\n",
       "    </tr>\n",
       "    <tr>\n",
       "      <th>1</th>\n",
       "      <td>[ə]</td>\n",
       "      <td>[a]</td>\n",
       "      <td>v</td>\n",
       "    </tr>\n",
       "    <tr>\n",
       "      <th>2</th>\n",
       "      <td>[b]</td>\n",
       "      <td>[b]</td>\n",
       "      <td>c</td>\n",
       "    </tr>\n",
       "    <tr>\n",
       "      <th>3</th>\n",
       "      <td>[a, ʊ]</td>\n",
       "      <td>[o, u]</td>\n",
       "      <td>v</td>\n",
       "    </tr>\n",
       "    <tr>\n",
       "      <th>4</th>\n",
       "      <td>[t]</td>\n",
       "      <td>[t]</td>\n",
       "      <td>c</td>\n",
       "    </tr>\n",
       "  </tbody>\n",
       "</table>\n",
       "</div>"
      ],
      "text/plain": [
       "  transcription    word type\n",
       "0        [e, ɪ]     [a]    v\n",
       "1           [ə]     [a]    v\n",
       "2           [b]     [b]    c\n",
       "3        [a, ʊ]  [o, u]    v\n",
       "4           [t]     [t]    c"
      ]
     },
     "execution_count": 24,
     "metadata": {},
     "output_type": "execute_result"
    }
   ],
   "source": [
    "# Flatten each column\n",
    "word_clusters = [clust for row in compatible_clust.word for clust in row]\n",
    "transcription_clusters = [clust for row in compatible_clust.transcription for clust in row]\n",
    "\n",
    "# Join columns together into new flattened dataframe\n",
    "flattened_clust = pd.DataFrame({'transcription': transcription_clusters, 'word': word_clusters})\n",
    "# Create new type column based on typing of current tuple's clusters\n",
    "flattened_clust['type'] = flattened_clust['word'].apply(lambda x: x[1])\n",
    "# Pull out cluster from tuple\n",
    "flattened_clust['word'] = flattened_clust['word'].apply(lambda x: x[0])\n",
    "flattened_clust['transcription'] = flattened_clust['transcription'].apply(lambda x: x[0])\n",
    "\n",
    "flattened_clust.head()"
   ]
  },
  {
   "cell_type": "code",
   "execution_count": 25,
   "metadata": {},
   "outputs": [],
   "source": [
    "# Create new dataframes for vowel and consonant clusters for analysis\n",
    "vowel_clusters = flattened_clust[flattened_clust['type'] == 'v']\n",
    "consonant_clusters = flattened_clust[flattened_clust['type'] == 'c']"
   ]
  },
  {
   "cell_type": "markdown",
   "metadata": {},
   "source": [
    "#### Intra-Cluster Co-Occurence Map"
   ]
  },
  {
   "cell_type": "code",
   "execution_count": 26,
   "metadata": {},
   "outputs": [],
   "source": [
    "vowel_orth_dict = {k: v for v, k in enumerate(orth_vowels)}\n",
    "vowel_phon_dict = {k: v for v, k in enumerate(phon_vowels)}\n",
    "\n",
    "# Create new dataframe for vowel heatmap\n",
    "vowel_heatmap = pd.DataFrame(index=[i for i in range(0, len(vowel_phon_dict))], \n",
    "                             columns=[i for i in range(0, len(vowel_orth_dict))], \n",
    "                             data=0)\n",
    "\n",
    "consonant_orth_dict = {k: v for v, k in enumerate(orth_consonants)}\n",
    "consonant_phon_dict = {k: v for v, k in enumerate(phon_consonants)}\n",
    "\n",
    "# Create new dataframe for consonant heatmap\n",
    "consonant_heatmap = pd.DataFrame(index=[i for i in range(0, len(consonant_phon_dict))], \n",
    "                             columns=[i for i in range(0, len(consonant_orth_dict))], \n",
    "                             data=0)"
   ]
  },
  {
   "cell_type": "code",
   "execution_count": 27,
   "metadata": {},
   "outputs": [],
   "source": [
    "# Run through each cluster and add acording weighted value\n",
    "for index, row in vowel_clusters.iterrows():\n",
    "    word_clust_length = len(row['word'])\n",
    "    transcription_clust_length = len(row['transcription'])\n",
    "    \n",
    "    # Word length weight calculation\n",
    "    weight = word_clust_length * transcription_clust_length\n",
    "    weighted_val = float(1/weight)\n",
    "    \n",
    "    for orth in row['word']:\n",
    "        for phon in row['transcription']:\n",
    "            # Ditribution weight calulation\n",
    "            dist_weight = float(1/(orth_prob[orth] * phon_prob[phon]))\n",
    "            \n",
    "            # Add new weighted value to overal for letter, phoneme pair\n",
    "            vowel_heatmap.loc[[vowel_phon_dict[phon]],[vowel_orth_dict[orth]]] += (weighted_val * dist_weight)\n",
    "\n",
    "# Apply same process to consonant data\n",
    "for index, row in consonant_clusters.iterrows():\n",
    "    word_clust_length = len(row['word'])\n",
    "    transcription_clust_length = len(row['transcription'])\n",
    "    \n",
    "    weight = word_clust_length * transcription_clust_length\n",
    "    weighted_val = float(1/weight)\n",
    "    \n",
    "    for orth in row['word']:\n",
    "        for phon in row['transcription']:\n",
    "            dist_weight = float(1/(orth_prob[orth] * phon_prob[phon]))\n",
    "            \n",
    "            consonant_heatmap.loc[[consonant_phon_dict[phon]],[consonant_orth_dict[orth]]] += (weighted_val * dist_weight)"
   ]
  },
  {
   "cell_type": "code",
   "execution_count": 28,
   "metadata": {},
   "outputs": [],
   "source": [
    "# Change index and columns names and normalize dataframes\n",
    "vowel_heatmap.index = phon_vowels\n",
    "vowel_heatmap.columns = orth_vowels\n",
    "\n",
    "vowel_max_val = max(vowel_heatmap.max())\n",
    "vowel_heatmap = vowel_heatmap.div(vowel_max_val)\n",
    "\n",
    "consonant_heatmap.index = phon_consonants\n",
    "consonant_heatmap.columns = orth_consonants\n",
    "\n",
    "consonant_max_val = max(consonant_heatmap.max())\n",
    "consonant_heatmap = consonant_heatmap.div(consonant_max_val)"
   ]
  },
  {
   "cell_type": "code",
   "execution_count": 29,
   "metadata": {},
   "outputs": [
    {
     "data": {
      "image/png": "[encoded data removed]",
      "text/plain": [
       "<matplotlib.figure.Figure at 0x212e94a72e8>"
      ]
     },
     "metadata": {},
     "output_type": "display_data"
    }
   ],
   "source": [
    "# Plot the dataframe showing the co-occurence values of each phoneme, letter pair\n",
    "plt.subplots(figsize=(20,15))\n",
    "ax_vowel = sns.heatmap(vowel_heatmap, cmap=\"Greens\")\n",
    "plt.yticks(rotation=0, va=\"center\", ha=\"center\")\n",
    "ax_vowel.set_title('Intra-Cluster Co-Occurence of Phoneme and Letter for Vowels')\n",
    "ax_vowel.set_ylabel('Phoneme'), ax_vowel.set_xlabel('Letter')\n",
    "plt.show()"
   ]
  },
  {
   "cell_type": "code",
   "execution_count": 30,
   "metadata": {},
   "outputs": [
    {
     "data": {
      "text/html": [
       "<div>\n",
       "<style scoped>\n",
       "    .dataframe tbody tr th:only-of-type {\n",
       "        vertical-align: middle;\n",
       "    }\n",
       "\n",
       "    .dataframe tbody tr th {\n",
       "        vertical-align: top;\n",
       "    }\n",
       "\n",
       "    .dataframe thead th {\n",
       "        text-align: right;\n",
       "    }\n",
       "</style>\n",
       "<table border=\"1\" class=\"dataframe\">\n",
       "  <thead>\n",
       "    <tr style=\"text-align: right;\">\n",
       "      <th></th>\n",
       "      <th>a</th>\n",
       "      <th>e</th>\n",
       "      <th>i</th>\n",
       "      <th>u</th>\n",
       "      <th>æ</th>\n",
       "      <th>ɑ</th>\n",
       "      <th>ɒ</th>\n",
       "      <th>ɔ</th>\n",
       "      <th>ə</th>\n",
       "      <th>ɜ</th>\n",
       "      <th>ɪ</th>\n",
       "      <th>ʊ</th>\n",
       "      <th>ʌ</th>\n",
       "    </tr>\n",
       "  </thead>\n",
       "  <tbody>\n",
       "    <tr>\n",
       "      <th>0</th>\n",
       "      <td>y</td>\n",
       "      <td>e</td>\n",
       "      <td>e</td>\n",
       "      <td>u</td>\n",
       "      <td>a</td>\n",
       "      <td>a</td>\n",
       "      <td>o</td>\n",
       "      <td>o</td>\n",
       "      <td>o</td>\n",
       "      <td>i</td>\n",
       "      <td>y</td>\n",
       "      <td>o</td>\n",
       "      <td>u</td>\n",
       "    </tr>\n",
       "  </tbody>\n",
       "</table>\n",
       "</div>"
      ],
      "text/plain": [
       "   a  e  i  u  æ  ɑ  ɒ  ɔ  ə  ɜ  ɪ  ʊ  ʌ\n",
       "0  y  e  e  u  a  a  o  o  o  i  y  o  u"
      ]
     },
     "execution_count": 30,
     "metadata": {},
     "output_type": "execute_result"
    }
   ],
   "source": [
    "# Find the letter of greatest co-occurence for each phoneme\n",
    "vowel_phon_comax = vowel_heatmap.idxmax(axis=1).to_frame()\n",
    "vowel_phon_comax.transpose()"
   ]
  },
  {
   "cell_type": "code",
   "execution_count": 31,
   "metadata": {},
   "outputs": [
    {
     "data": {
      "text/html": [
       "<div>\n",
       "<style scoped>\n",
       "    .dataframe tbody tr th:only-of-type {\n",
       "        vertical-align: middle;\n",
       "    }\n",
       "\n",
       "    .dataframe tbody tr th {\n",
       "        vertical-align: top;\n",
       "    }\n",
       "\n",
       "    .dataframe thead th {\n",
       "        text-align: right;\n",
       "    }\n",
       "</style>\n",
       "<table border=\"1\" class=\"dataframe\">\n",
       "  <thead>\n",
       "    <tr style=\"text-align: right;\">\n",
       "      <th></th>\n",
       "      <th>a</th>\n",
       "      <th>e</th>\n",
       "      <th>i</th>\n",
       "      <th>o</th>\n",
       "      <th>u</th>\n",
       "      <th>y</th>\n",
       "    </tr>\n",
       "  </thead>\n",
       "  <tbody>\n",
       "    <tr>\n",
       "      <th>0</th>\n",
       "      <td>æ</td>\n",
       "      <td>i</td>\n",
       "      <td>ɜ</td>\n",
       "      <td>ɒ</td>\n",
       "      <td>ʌ</td>\n",
       "      <td>ɪ</td>\n",
       "    </tr>\n",
       "  </tbody>\n",
       "</table>\n",
       "</div>"
      ],
      "text/plain": [
       "   a  e  i  o  u  y\n",
       "0  æ  i  ɜ  ɒ  ʌ  ɪ"
      ]
     },
     "execution_count": 31,
     "metadata": {},
     "output_type": "execute_result"
    }
   ],
   "source": [
    "# Find the phoneme of greatest co-occurence for each letter\n",
    "vowel_orth_comax = vowel_heatmap.idxmax(axis=0).to_frame()\n",
    "vowel_orth_comax.transpose()"
   ]
  },
  {
   "cell_type": "code",
   "execution_count": 32,
   "metadata": {},
   "outputs": [
    {
     "data": {
      "image/png": "[encoded data removed]",
      "text/plain": [
       "<matplotlib.figure.Figure at 0x212e94ac2b0>"
      ]
     },
     "metadata": {},
     "output_type": "display_data"
    }
   ],
   "source": [
    "# Plot the dataframe showing the co-occurence values of each phoneme, letter pair\n",
    "plt.subplots(figsize=(20,15))\n",
    "ax_consonant = sns.heatmap(consonant_heatmap, cmap=\"Greens\")\n",
    "plt.yticks(rotation=0, va=\"center\", ha=\"center\")\n",
    "ax_consonant.set_title('Intra-Cluster Co-Occurence of Phoneme and Letter for Consonants')\n",
    "ax_consonant.set_ylabel('Phoneme'), ax_consonant.set_xlabel('Letter')\n",
    "plt.show()"
   ]
  },
  {
   "cell_type": "code",
   "execution_count": 33,
   "metadata": {},
   "outputs": [
    {
     "data": {
      "text/html": [
       "<div>\n",
       "<style scoped>\n",
       "    .dataframe tbody tr th:only-of-type {\n",
       "        vertical-align: middle;\n",
       "    }\n",
       "\n",
       "    .dataframe tbody tr th {\n",
       "        vertical-align: top;\n",
       "    }\n",
       "\n",
       "    .dataframe thead th {\n",
       "        text-align: right;\n",
       "    }\n",
       "</style>\n",
       "<table border=\"1\" class=\"dataframe\">\n",
       "  <thead>\n",
       "    <tr style=\"text-align: right;\">\n",
       "      <th></th>\n",
       "      <th>b</th>\n",
       "      <th>d</th>\n",
       "      <th>f</th>\n",
       "      <th>g</th>\n",
       "      <th>h</th>\n",
       "      <th>j</th>\n",
       "      <th>k</th>\n",
       "      <th>l</th>\n",
       "      <th>m</th>\n",
       "      <th>n</th>\n",
       "      <th>p</th>\n",
       "      <th>r</th>\n",
       "      <th>s</th>\n",
       "      <th>t</th>\n",
       "      <th>v</th>\n",
       "      <th>w</th>\n",
       "      <th>z</th>\n",
       "      <th>ð</th>\n",
       "      <th>ŋ</th>\n",
       "      <th>ʃ</th>\n",
       "      <th>ʒ</th>\n",
       "      <th>θ</th>\n",
       "    </tr>\n",
       "  </thead>\n",
       "  <tbody>\n",
       "    <tr>\n",
       "      <th>0</th>\n",
       "      <td>b</td>\n",
       "      <td>d</td>\n",
       "      <td>f</td>\n",
       "      <td>g</td>\n",
       "      <td>h</td>\n",
       "      <td>y</td>\n",
       "      <td>k</td>\n",
       "      <td>l</td>\n",
       "      <td>m</td>\n",
       "      <td>n</td>\n",
       "      <td>p</td>\n",
       "      <td>r</td>\n",
       "      <td>s</td>\n",
       "      <td>t</td>\n",
       "      <td>v</td>\n",
       "      <td>w</td>\n",
       "      <td>z</td>\n",
       "      <td>h</td>\n",
       "      <td>g</td>\n",
       "      <td>h</td>\n",
       "      <td>j</td>\n",
       "      <td>h</td>\n",
       "    </tr>\n",
       "  </tbody>\n",
       "</table>\n",
       "</div>"
      ],
      "text/plain": [
       "   b  d  f  g  h  j  k  l  m  n  p  r  s  t  v  w  z  ð  ŋ  ʃ  ʒ  θ\n",
       "0  b  d  f  g  h  y  k  l  m  n  p  r  s  t  v  w  z  h  g  h  j  h"
      ]
     },
     "execution_count": 33,
     "metadata": {},
     "output_type": "execute_result"
    }
   ],
   "source": [
    "# Find the letter of greatest co-occurence for each phoneme\n",
    "consonant_phon_comax = consonant_heatmap.idxmax(axis=1).to_frame()\n",
    "consonant_phon_comax.transpose()"
   ]
  },
  {
   "cell_type": "code",
   "execution_count": 34,
   "metadata": {},
   "outputs": [
    {
     "data": {
      "text/html": [
       "<div>\n",
       "<style scoped>\n",
       "    .dataframe tbody tr th:only-of-type {\n",
       "        vertical-align: middle;\n",
       "    }\n",
       "\n",
       "    .dataframe tbody tr th {\n",
       "        vertical-align: top;\n",
       "    }\n",
       "\n",
       "    .dataframe thead th {\n",
       "        text-align: right;\n",
       "    }\n",
       "</style>\n",
       "<table border=\"1\" class=\"dataframe\">\n",
       "  <thead>\n",
       "    <tr style=\"text-align: right;\">\n",
       "      <th></th>\n",
       "      <th>b</th>\n",
       "      <th>c</th>\n",
       "      <th>d</th>\n",
       "      <th>f</th>\n",
       "      <th>g</th>\n",
       "      <th>h</th>\n",
       "      <th>j</th>\n",
       "      <th>k</th>\n",
       "      <th>l</th>\n",
       "      <th>m</th>\n",
       "      <th>n</th>\n",
       "      <th>p</th>\n",
       "      <th>q</th>\n",
       "      <th>r</th>\n",
       "      <th>s</th>\n",
       "      <th>t</th>\n",
       "      <th>v</th>\n",
       "      <th>w</th>\n",
       "      <th>x</th>\n",
       "      <th>y</th>\n",
       "      <th>z</th>\n",
       "    </tr>\n",
       "  </thead>\n",
       "  <tbody>\n",
       "    <tr>\n",
       "      <th>0</th>\n",
       "      <td>b</td>\n",
       "      <td>k</td>\n",
       "      <td>d</td>\n",
       "      <td>f</td>\n",
       "      <td>g</td>\n",
       "      <td>h</td>\n",
       "      <td>ʒ</td>\n",
       "      <td>k</td>\n",
       "      <td>l</td>\n",
       "      <td>m</td>\n",
       "      <td>n</td>\n",
       "      <td>p</td>\n",
       "      <td>w</td>\n",
       "      <td>r</td>\n",
       "      <td>z</td>\n",
       "      <td>t</td>\n",
       "      <td>v</td>\n",
       "      <td>w</td>\n",
       "      <td>k</td>\n",
       "      <td>j</td>\n",
       "      <td>z</td>\n",
       "    </tr>\n",
       "  </tbody>\n",
       "</table>\n",
       "</div>"
      ],
      "text/plain": [
       "   b  c  d  f  g  h  j  k  l  m  n  p  q  r  s  t  v  w  x  y  z\n",
       "0  b  k  d  f  g  h  ʒ  k  l  m  n  p  w  r  z  t  v  w  k  j  z"
      ]
     },
     "execution_count": 34,
     "metadata": {},
     "output_type": "execute_result"
    }
   ],
   "source": [
    "# Find the phoneme of greatest co-occurence for each letter\n",
    "consonant_orth_comax = consonant_heatmap.idxmax(axis=0).to_frame()\n",
    "consonant_orth_comax.transpose()"
   ]
  },
  {
   "cell_type": "markdown",
   "metadata": {},
   "source": [
    "#### In-Compatible Clustering Analysis "
   ]
  },
  {
   "cell_type": "code",
   "execution_count": 35,
   "metadata": {},
   "outputs": [
    {
     "data": {
      "text/html": [
       "<div>\n",
       "<style scoped>\n",
       "    .dataframe tbody tr th:only-of-type {\n",
       "        vertical-align: middle;\n",
       "    }\n",
       "\n",
       "    .dataframe tbody tr th {\n",
       "        vertical-align: top;\n",
       "    }\n",
       "\n",
       "    .dataframe thead th {\n",
       "        text-align: right;\n",
       "    }\n",
       "</style>\n",
       "<table border=\"1\" class=\"dataframe\">\n",
       "  <thead>\n",
       "    <tr style=\"text-align: right;\">\n",
       "      <th></th>\n",
       "      <th>word</th>\n",
       "      <th>transcription</th>\n",
       "      <th>compatible</th>\n",
       "    </tr>\n",
       "  </thead>\n",
       "  <tbody>\n",
       "    <tr>\n",
       "      <th>2</th>\n",
       "      <td>[([a], v), ([b], c), ([o], v), ([v], c), ([e],...</td>\n",
       "      <td>[([ə], v), ([b], c), ([ʌ], v), ([v], c)]</td>\n",
       "      <td>False</td>\n",
       "    </tr>\n",
       "    <tr>\n",
       "      <th>5</th>\n",
       "      <td>[([a], v), ([c, t], c), ([i], v), ([v], c), ([...</td>\n",
       "      <td>[([æ], v), ([k, t], c), ([ɪ], v), ([v], c)]</td>\n",
       "      <td>False</td>\n",
       "    </tr>\n",
       "    <tr>\n",
       "      <th>9</th>\n",
       "      <td>[([a], v), ([f, t], c), ([e], v), ([r], c)]</td>\n",
       "      <td>[([ɑ], v), ([f, t], c), ([ə], v)]</td>\n",
       "      <td>False</td>\n",
       "    </tr>\n",
       "    <tr>\n",
       "      <th>11</th>\n",
       "      <td>[([a], v), ([g], c), ([e], v)]</td>\n",
       "      <td>[([e, ɪ], v), ([d, ʒ], c)]</td>\n",
       "      <td>False</td>\n",
       "    </tr>\n",
       "    <tr>\n",
       "      <th>14</th>\n",
       "      <td>[([a, i], v), ([r], c)]</td>\n",
       "      <td>[([e, ə], v)]</td>\n",
       "      <td>False</td>\n",
       "    </tr>\n",
       "  </tbody>\n",
       "</table>\n",
       "</div>"
      ],
      "text/plain": [
       "                                                 word  \\\n",
       "2   [([a], v), ([b], c), ([o], v), ([v], c), ([e],...   \n",
       "5   [([a], v), ([c, t], c), ([i], v), ([v], c), ([...   \n",
       "9         [([a], v), ([f, t], c), ([e], v), ([r], c)]   \n",
       "11                     [([a], v), ([g], c), ([e], v)]   \n",
       "14                            [([a, i], v), ([r], c)]   \n",
       "\n",
       "                                  transcription  compatible  \n",
       "2      [([ə], v), ([b], c), ([ʌ], v), ([v], c)]       False  \n",
       "5   [([æ], v), ([k, t], c), ([ɪ], v), ([v], c)]       False  \n",
       "9             [([ɑ], v), ([f, t], c), ([ə], v)]       False  \n",
       "11                   [([e, ɪ], v), ([d, ʒ], c)]       False  \n",
       "14                                [([e, ə], v)]       False  "
      ]
     },
     "execution_count": 35,
     "metadata": {},
     "output_type": "execute_result"
    }
   ],
   "source": [
    "incompatible_clust.head()"
   ]
  },
  {
   "cell_type": "code",
   "execution_count": 36,
   "metadata": {},
   "outputs": [
    {
     "name": "stdout",
     "output_type": "stream",
     "text": [
      "Percent of incompatible clusterings with spelling-final 'e':\n",
      "0.5946745562130178\n"
     ]
    }
   ],
   "source": [
    "print(\"Percent of incompatible clusterings with spelling-final 'e':\")\n",
    "print(len(incompatible_clust[incompatible_clust['word'].apply(lambda x: x[-1][0][-1]) == 'e'])/len(incompatible_clust))"
   ]
  },
  {
   "cell_type": "code",
   "execution_count": 37,
   "metadata": {},
   "outputs": [
    {
     "name": "stdout",
     "output_type": "stream",
     "text": [
      "Percent of incompatible clusterings with spelling-final 'r':\n",
      "0.2869822485207101\n"
     ]
    }
   ],
   "source": [
    "print(\"Percent of incompatible clusterings with spelling-final 'r':\")\n",
    "print(len(incompatible_clust[incompatible_clust['word'].apply(lambda x: x[-1][0][-1]) == 'r'])/len(incompatible_clust))"
   ]
  },
  {
   "cell_type": "code",
   "execution_count": 38,
   "metadata": {},
   "outputs": [
    {
     "name": "stdout",
     "output_type": "stream",
     "text": [
      "['d', 'e', 'g', 'h', 'l', 'n', 'r', 's', 't', 'w', 'y']\n"
     ]
    }
   ],
   "source": [
    "print(sorted(incompatible_clust['word'].apply(lambda x: x[-1][0][-1]).unique()))"
   ]
  },
  {
   "cell_type": "markdown",
   "metadata": {},
   "source": [
    "### Decision Tree Model"
   ]
  },
  {
   "cell_type": "code",
   "execution_count": null,
   "metadata": {},
   "outputs": [],
   "source": []
  }
 ],
 "metadata": {
  "kernelspec": {
   "display_name": "Python 3",
   "language": "python",
   "name": "python3"
  },
  "language_info": {
   "codemirror_mode": {
    "name": "ipython",
    "version": 3
   },
   "file_extension": ".py",
   "mimetype": "text/x-python",
   "name": "python",
   "nbconvert_exporter": "python",
   "pygments_lexer": "ipython3",
   "version": "3.6.4"
  }
 },
 "nbformat": 4,
 "nbformat_minor": 2
}
