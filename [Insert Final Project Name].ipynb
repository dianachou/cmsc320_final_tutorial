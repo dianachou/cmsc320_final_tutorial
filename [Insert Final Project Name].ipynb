{
 "cells": [
  {
   "cell_type": "markdown",
   "metadata": {},
   "source": [
    "# [Clever Title]"
   ]
  },
  {
   "cell_type": "markdown",
   "metadata": {},
   "source": [
    "## [Cool Subtitle]"
   ]
  },
  {
   "cell_type": "markdown",
   "metadata": {},
   "source": [
    "### Project Members: Diana Chou, Max Scribner, Lewis Qualkenbush"
   ]
  },
  {
   "cell_type": "markdown",
   "metadata": {},
   "source": [
    "### Table of Contents:"
   ]
  },
  {
   "cell_type": "markdown",
   "metadata": {},
   "source": [
    "<ol>\n",
    "    <li>Introduction</li>\n",
    "    <li>Data Munging</li>\n",
    "    <li>Data Exploration and Analysis</li>\n",
    "    <li>Conclusion</li>\n",
    "</ol>"
   ]
  },
  {
   "cell_type": "markdown",
   "metadata": {},
   "source": [
    "#### Find Unique Characters for Analysis"
   ]
  },
  {
   "cell_type": "code",
   "execution_count": 1,
   "metadata": {},
   "outputs": [],
   "source": [
    "import numpy as np\n",
    "import pandas as pd"
   ]
  },
  {
   "cell_type": "code",
   "execution_count": 2,
   "metadata": {},
   "outputs": [],
   "source": [
    "from functools import reduce"
   ]
  },
  {
   "cell_type": "code",
   "execution_count": 3,
   "metadata": {},
   "outputs": [],
   "source": [
    "transcriptions = pd.read_csv(\"transcriptions/british.csv\")\n",
    "transcriptions = transcriptions.replace(to_replace='\\'|:', value = '', regex = True)\n",
    "transcriptions.transcription = transcriptions.transcription.str.lower()\n",
    "\n",
    "def get_chars(string):\n",
    "    chars = set()\n",
    "    \n",
    "    for char in string:\n",
    "        chars.add(char.lower())\n",
    "        \n",
    "    return chars\n",
    "\n",
    "orth_chars = set()\n",
    "phon_chars = set()\n",
    "\n",
    "for index, row in transcriptions.iterrows():\n",
    "    orth_chars = orth_chars.union(get_chars(row[\"word\"]))\n",
    "    \n",
    "    phon_chars = phon_chars.union(get_chars(row[\"transcription\"]))"
   ]
  },
  {
   "cell_type": "code",
   "execution_count": 4,
   "metadata": {},
   "outputs": [
    {
     "name": "stdout",
     "output_type": "stream",
     "text": [
      "{'d', 'l', 'b', 'n', 'q', 'p', 'i', 'u', 's', 'g', 'e', 'v', 'f', 'w', 'm', 't', 'k', 'y', 'c', 'x', 'z', 'h', 'j', 'r', 'o', 'a'}\n",
      "{'n', 'ɔ', 'æ', 'i', 'u', 'g', 'e', 'v', 'ɜ', 'f', 'w', 'm', 'ɒ', 't', 'k', 'ɑ', 'ʊ', 'z', 'h', 'ɪ', 'a', 'd', 'b', 'ŋ', 'p', 'ʒ', 'ð', 's', 'ˌ', 'ə', 'ʃ', 'ʌ', 'j', 'r', 'l', 'θ'}\n"
     ]
    }
   ],
   "source": [
    "print(orth_chars)\n",
    "print(phon_chars)"
   ]
  },
  {
   "cell_type": "markdown",
   "metadata": {},
   "source": [
    "#### Co-Occurence Map"
   ]
  },
  {
   "cell_type": "code",
   "execution_count": 5,
   "metadata": {},
   "outputs": [],
   "source": [
    "import seaborn as sns\n",
    "import matplotlib.pyplot as plt\n",
    "import re"
   ]
  },
  {
   "cell_type": "code",
   "execution_count": 6,
   "metadata": {},
   "outputs": [
    {
     "name": "stdout",
     "output_type": "stream",
     "text": [
      "['a', 'b', 'c', 'd', 'e', 'f', 'g', 'h', 'i', 'j', 'k', 'l', 'm', 'n', 'o', 'p', 'q', 'r', 's', 't', 'u', 'v', 'w', 'x', 'y', 'z']\n",
      "['a', 'b', 'd', 'e', 'f', 'g', 'h', 'i', 'j', 'k', 'l', 'm', 'n', 'p', 'r', 's', 't', 'u', 'v', 'w', 'z', 'æ', 'ð', 'ŋ', 'ɑ', 'ɒ', 'ɔ', 'ə', 'ɜ', 'ɪ', 'ʃ', 'ʊ', 'ʌ', 'ʒ', 'ˌ', 'θ']\n"
     ]
    }
   ],
   "source": [
    "orth_list = list(orth_chars)\n",
    "phon_list = list(phon_chars)\n",
    "orth_list.sort()\n",
    "phon_list.sort()\n",
    "\n",
    "print(orth_list)\n",
    "print(phon_list)"
   ]
  },
  {
   "cell_type": "code",
   "execution_count": 7,
   "metadata": {},
   "outputs": [],
   "source": [
    "heatmap_frame = pd.DataFrame(index=[i for i in range(0, len(phon_list))], columns=[i for i in range(0, len(orth_list))], data=0)"
   ]
  },
  {
   "cell_type": "code",
   "execution_count": 8,
   "metadata": {},
   "outputs": [],
   "source": [
    "sample_transcriptions = transcriptions.sample(n=200)"
   ]
  },
  {
   "cell_type": "code",
   "execution_count": 9,
   "metadata": {},
   "outputs": [],
   "source": [
    "for index, row in sample_transcriptions.iterrows():\n",
    "    word_length = len(row['word'])\n",
    "    transcription_length = len(row['transcription'])\n",
    "    weight = word_length * transcription_length\n",
    "    val = float(1/weight)\n",
    "    \n",
    "    for orth in list(row['word']):\n",
    "        for phon in list(row['transcription']):\n",
    "            if orth in orth_list and phon in phon_list:\n",
    "                heatmap_frame.loc[[phon_list.index(phon)],[orth_list.index(orth)]] = heatmap_frame.loc[[phon_list.index(phon)],[orth_list.index(orth)]] + val"
   ]
  },
  {
   "cell_type": "code",
   "execution_count": 10,
   "metadata": {},
   "outputs": [
    {
     "data": {
      "text/html": [
       "<div>\n",
       "<style scoped>\n",
       "    .dataframe tbody tr th:only-of-type {\n",
       "        vertical-align: middle;\n",
       "    }\n",
       "\n",
       "    .dataframe tbody tr th {\n",
       "        vertical-align: top;\n",
       "    }\n",
       "\n",
       "    .dataframe thead th {\n",
       "        text-align: right;\n",
       "    }\n",
       "</style>\n",
       "<table border=\"1\" class=\"dataframe\">\n",
       "  <thead>\n",
       "    <tr style=\"text-align: right;\">\n",
       "      <th></th>\n",
       "      <th>a</th>\n",
       "      <th>b</th>\n",
       "      <th>c</th>\n",
       "      <th>d</th>\n",
       "      <th>e</th>\n",
       "      <th>f</th>\n",
       "      <th>g</th>\n",
       "      <th>h</th>\n",
       "      <th>i</th>\n",
       "      <th>j</th>\n",
       "      <th>...</th>\n",
       "      <th>q</th>\n",
       "      <th>r</th>\n",
       "      <th>s</th>\n",
       "      <th>t</th>\n",
       "      <th>u</th>\n",
       "      <th>v</th>\n",
       "      <th>w</th>\n",
       "      <th>x</th>\n",
       "      <th>y</th>\n",
       "      <th>z</th>\n",
       "    </tr>\n",
       "  </thead>\n",
       "  <tbody>\n",
       "    <tr>\n",
       "      <th>a</th>\n",
       "      <td>0.045635</td>\n",
       "      <td>0.184444</td>\n",
       "      <td>0.083403</td>\n",
       "      <td>0.133333</td>\n",
       "      <td>0.768899</td>\n",
       "      <td>0.237500</td>\n",
       "      <td>0.194444</td>\n",
       "      <td>0.594444</td>\n",
       "      <td>0.934395</td>\n",
       "      <td>0.000000</td>\n",
       "      <td>...</td>\n",
       "      <td>0.033333</td>\n",
       "      <td>0.308284</td>\n",
       "      <td>0.226339</td>\n",
       "      <td>0.402579</td>\n",
       "      <td>0.419048</td>\n",
       "      <td>0.000000</td>\n",
       "      <td>0.336111</td>\n",
       "      <td>0.015625</td>\n",
       "      <td>0.173611</td>\n",
       "      <td>0.0625</td>\n",
       "    </tr>\n",
       "    <tr>\n",
       "      <th>b</th>\n",
       "      <td>0.195635</td>\n",
       "      <td>1.354167</td>\n",
       "      <td>0.073810</td>\n",
       "      <td>0.129167</td>\n",
       "      <td>0.559722</td>\n",
       "      <td>0.041667</td>\n",
       "      <td>0.033333</td>\n",
       "      <td>0.173611</td>\n",
       "      <td>0.162302</td>\n",
       "      <td>0.090476</td>\n",
       "      <td>...</td>\n",
       "      <td>0.000000</td>\n",
       "      <td>0.308333</td>\n",
       "      <td>0.067857</td>\n",
       "      <td>0.315278</td>\n",
       "      <td>0.295635</td>\n",
       "      <td>0.027778</td>\n",
       "      <td>0.000000</td>\n",
       "      <td>0.000000</td>\n",
       "      <td>0.173611</td>\n",
       "      <td>0.0000</td>\n",
       "    </tr>\n",
       "    <tr>\n",
       "      <th>d</th>\n",
       "      <td>0.554376</td>\n",
       "      <td>0.219643</td>\n",
       "      <td>0.228323</td>\n",
       "      <td>1.415835</td>\n",
       "      <td>0.730506</td>\n",
       "      <td>0.067857</td>\n",
       "      <td>0.073413</td>\n",
       "      <td>0.169366</td>\n",
       "      <td>0.283057</td>\n",
       "      <td>0.090476</td>\n",
       "      <td>...</td>\n",
       "      <td>0.000000</td>\n",
       "      <td>0.527728</td>\n",
       "      <td>0.160833</td>\n",
       "      <td>0.103810</td>\n",
       "      <td>0.131944</td>\n",
       "      <td>0.000000</td>\n",
       "      <td>0.118056</td>\n",
       "      <td>0.000000</td>\n",
       "      <td>0.140765</td>\n",
       "      <td>0.0000</td>\n",
       "    </tr>\n",
       "    <tr>\n",
       "      <th>e</th>\n",
       "      <td>1.041729</td>\n",
       "      <td>0.027778</td>\n",
       "      <td>0.288981</td>\n",
       "      <td>0.267154</td>\n",
       "      <td>1.710906</td>\n",
       "      <td>0.028968</td>\n",
       "      <td>0.122024</td>\n",
       "      <td>0.406519</td>\n",
       "      <td>0.245359</td>\n",
       "      <td>0.000000</td>\n",
       "      <td>...</td>\n",
       "      <td>0.000000</td>\n",
       "      <td>0.589973</td>\n",
       "      <td>0.401736</td>\n",
       "      <td>0.695867</td>\n",
       "      <td>0.050000</td>\n",
       "      <td>0.090278</td>\n",
       "      <td>0.161111</td>\n",
       "      <td>0.111260</td>\n",
       "      <td>0.425488</td>\n",
       "      <td>0.0000</td>\n",
       "    </tr>\n",
       "    <tr>\n",
       "      <th>f</th>\n",
       "      <td>0.484722</td>\n",
       "      <td>0.041667</td>\n",
       "      <td>0.022222</td>\n",
       "      <td>0.067857</td>\n",
       "      <td>0.638690</td>\n",
       "      <td>1.520635</td>\n",
       "      <td>0.263294</td>\n",
       "      <td>0.161111</td>\n",
       "      <td>0.416468</td>\n",
       "      <td>0.000000</td>\n",
       "      <td>...</td>\n",
       "      <td>0.000000</td>\n",
       "      <td>0.492063</td>\n",
       "      <td>0.061111</td>\n",
       "      <td>0.088095</td>\n",
       "      <td>0.287302</td>\n",
       "      <td>0.028571</td>\n",
       "      <td>0.062500</td>\n",
       "      <td>0.083333</td>\n",
       "      <td>0.017857</td>\n",
       "      <td>0.0000</td>\n",
       "    </tr>\n",
       "  </tbody>\n",
       "</table>\n",
       "<p>5 rows × 26 columns</p>\n",
       "</div>"
      ],
      "text/plain": [
       "          a         b         c         d         e         f         g  \\\n",
       "a  0.045635  0.184444  0.083403  0.133333  0.768899  0.237500  0.194444   \n",
       "b  0.195635  1.354167  0.073810  0.129167  0.559722  0.041667  0.033333   \n",
       "d  0.554376  0.219643  0.228323  1.415835  0.730506  0.067857  0.073413   \n",
       "e  1.041729  0.027778  0.288981  0.267154  1.710906  0.028968  0.122024   \n",
       "f  0.484722  0.041667  0.022222  0.067857  0.638690  1.520635  0.263294   \n",
       "\n",
       "          h         i         j   ...           q         r         s  \\\n",
       "a  0.594444  0.934395  0.000000   ...    0.033333  0.308284  0.226339   \n",
       "b  0.173611  0.162302  0.090476   ...    0.000000  0.308333  0.067857   \n",
       "d  0.169366  0.283057  0.090476   ...    0.000000  0.527728  0.160833   \n",
       "e  0.406519  0.245359  0.000000   ...    0.000000  0.589973  0.401736   \n",
       "f  0.161111  0.416468  0.000000   ...    0.000000  0.492063  0.061111   \n",
       "\n",
       "          t         u         v         w         x         y       z  \n",
       "a  0.402579  0.419048  0.000000  0.336111  0.015625  0.173611  0.0625  \n",
       "b  0.315278  0.295635  0.027778  0.000000  0.000000  0.173611  0.0000  \n",
       "d  0.103810  0.131944  0.000000  0.118056  0.000000  0.140765  0.0000  \n",
       "e  0.695867  0.050000  0.090278  0.161111  0.111260  0.425488  0.0000  \n",
       "f  0.088095  0.287302  0.028571  0.062500  0.083333  0.017857  0.0000  \n",
       "\n",
       "[5 rows x 26 columns]"
      ]
     },
     "execution_count": 10,
     "metadata": {},
     "output_type": "execute_result"
    }
   ],
   "source": [
    "heatmap_frame.index = phon_list\n",
    "heatmap_frame.columns = orth_list\n",
    "heatmap_frame.head()"
   ]
  },
  {
   "cell_type": "code",
   "execution_count": 11,
   "metadata": {},
   "outputs": [
    {
     "data": {
      "image/png": "[encoded data removed]",
      "text/plain": [
       "<matplotlib.figure.Figure at 0x2193afb9eb8>"
      ]
     },
     "metadata": {},
     "output_type": "display_data"
    }
   ],
   "source": [
    "plt.subplots(figsize=(20,15))\n",
    "ax = sns.heatmap(heatmap_frame)\n",
    "plt.show()"
   ]
  },
  {
   "cell_type": "code",
   "execution_count": null,
   "metadata": {},
   "outputs": [],
   "source": []
  }
 ],
 "metadata": {
  "kernelspec": {
   "display_name": "Python 3",
   "language": "python",
   "name": "python3"
  },
  "language_info": {
   "codemirror_mode": {
    "name": "ipython",
    "version": 3
   },
   "file_extension": ".py",
   "mimetype": "text/x-python",
   "name": "python",
   "nbconvert_exporter": "python",
   "pygments_lexer": "ipython3",
   "version": "3.6.4"
  }
 },
 "nbformat": 4,
 "nbformat_minor": 2
}
